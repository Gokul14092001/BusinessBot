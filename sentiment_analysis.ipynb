{
 "cells": [
  {
   "cell_type": "code",
   "execution_count": 1,
   "metadata": {},
   "outputs": [],
   "source": [
    "# Importing the libraries\n",
    "import tensorflow as tf\n",
    "from tensorflow.keras.preprocessing.text import Tokenizer\n",
    "from tensorflow import keras\n",
    "from keras.preprocessing.sequence import pad_sequences\n",
    "from keras.models import Sequential\n",
    "from keras.layers import Dense, Embedding, LSTM, Dropout\n",
    "import pandas as pd\n",
    "from tqdm import tqdm\n",
    "from gensim.models import Word2Vec\n",
    "from sklearn.preprocessing import LabelEncoder\n",
    "from nltk.corpus import stopwords\n",
    "from nltk.tokenize import word_tokenize\n",
    "import matplotlib.pyplot as plt "
   ]
  },
  {
   "cell_type": "code",
   "execution_count": 2,
   "metadata": {},
   "outputs": [
    {
     "data": {
      "text/html": [
       "<div>\n",
       "<style scoped>\n",
       "    .dataframe tbody tr th:only-of-type {\n",
       "        vertical-align: middle;\n",
       "    }\n",
       "\n",
       "    .dataframe tbody tr th {\n",
       "        vertical-align: top;\n",
       "    }\n",
       "\n",
       "    .dataframe thead th {\n",
       "        text-align: right;\n",
       "    }\n",
       "</style>\n",
       "<table border=\"1\" class=\"dataframe\">\n",
       "  <thead>\n",
       "    <tr style=\"text-align: right;\">\n",
       "      <th></th>\n",
       "      <th>UserName</th>\n",
       "      <th>ScreenName</th>\n",
       "      <th>Location</th>\n",
       "      <th>TweetAt</th>\n",
       "      <th>OriginalTweet</th>\n",
       "      <th>Sentiment</th>\n",
       "    </tr>\n",
       "  </thead>\n",
       "  <tbody>\n",
       "    <tr>\n",
       "      <th>536</th>\n",
       "      <td>537</td>\n",
       "      <td>45948</td>\n",
       "      <td>Chicago, IL - USA</td>\n",
       "      <td>13-03-2020</td>\n",
       "      <td>DONT FORGET TO BE POLITE TO OTHERS, ESPECIALLY...</td>\n",
       "      <td>Positive</td>\n",
       "    </tr>\n",
       "    <tr>\n",
       "      <th>146</th>\n",
       "      <td>147</td>\n",
       "      <td>45229</td>\n",
       "      <td>?</td>\n",
       "      <td>12-03-2020</td>\n",
       "      <td>Donnie touts  #CoronaTaxCuts becoz of low oil ...</td>\n",
       "      <td>Negative</td>\n",
       "    </tr>\n",
       "    <tr>\n",
       "      <th>1458</th>\n",
       "      <td>1459</td>\n",
       "      <td>47670</td>\n",
       "      <td>Erth</td>\n",
       "      <td>14-03-2020</td>\n",
       "      <td>Stock prices increase after #TrumpPressConfere...</td>\n",
       "      <td>Positive</td>\n",
       "    </tr>\n",
       "    <tr>\n",
       "      <th>714</th>\n",
       "      <td>715</td>\n",
       "      <td>46301</td>\n",
       "      <td>Toronto</td>\n",
       "      <td>13-03-2020</td>\n",
       "      <td>I went and bought a bunch of food today, not b...</td>\n",
       "      <td>Negative</td>\n",
       "    </tr>\n",
       "    <tr>\n",
       "      <th>583</th>\n",
       "      <td>584</td>\n",
       "      <td>46038</td>\n",
       "      <td>NaN</td>\n",
       "      <td>13-03-2020</td>\n",
       "      <td>Pretty sure I'm single handedly financing Pola...</td>\n",
       "      <td>Positive</td>\n",
       "    </tr>\n",
       "  </tbody>\n",
       "</table>\n",
       "</div>"
      ],
      "text/plain": [
       "      UserName  ScreenName           Location     TweetAt  \\\n",
       "536        537       45948  Chicago, IL - USA  13-03-2020   \n",
       "146        147       45229                  ?  12-03-2020   \n",
       "1458      1459       47670               Erth  14-03-2020   \n",
       "714        715       46301           Toronto   13-03-2020   \n",
       "583        584       46038                NaN  13-03-2020   \n",
       "\n",
       "                                          OriginalTweet Sentiment  \n",
       "536   DONT FORGET TO BE POLITE TO OTHERS, ESPECIALLY...  Positive  \n",
       "146   Donnie touts  #CoronaTaxCuts becoz of low oil ...  Negative  \n",
       "1458  Stock prices increase after #TrumpPressConfere...  Positive  \n",
       "714   I went and bought a bunch of food today, not b...  Negative  \n",
       "583   Pretty sure I'm single handedly financing Pola...  Positive  "
      ]
     },
     "execution_count": 2,
     "metadata": {},
     "output_type": "execute_result"
    }
   ],
   "source": [
    "# Importing the dataset\n",
    "data = pd.read_csv(\"C:/Users/LENOVO/Downloads/CoronaTweetsSentimentAnalysis.csv\")\n",
    "data.sample(5)"
   ]
  },
  {
   "cell_type": "code",
   "execution_count": 3,
   "metadata": {},
   "outputs": [
    {
     "data": {
      "text/plain": [
       "Negative    1041\n",
       "Positive     947\n",
       "Name: Sentiment, dtype: int64"
      ]
     },
     "execution_count": 3,
     "metadata": {},
     "output_type": "execute_result"
    }
   ],
   "source": [
    "data['Sentiment'].value_counts()"
   ]
  },
  {
   "cell_type": "code",
   "execution_count": 4,
   "metadata": {},
   "outputs": [
    {
     "data": {
      "text/plain": [
       "UserName         0.000000\n",
       "ScreenName       0.000000\n",
       "Location         0.227364\n",
       "TweetAt          0.000000\n",
       "OriginalTweet    0.000000\n",
       "Sentiment        0.000000\n",
       "dtype: float64"
      ]
     },
     "execution_count": 4,
     "metadata": {},
     "output_type": "execute_result"
    }
   ],
   "source": [
    "#check for missing values\n",
    "data.isna().sum()/data.shape[0]"
   ]
  },
  {
   "cell_type": "code",
   "execution_count": 5,
   "metadata": {},
   "outputs": [
    {
     "data": {
      "text/plain": [
       "(1988, 6)"
      ]
     },
     "execution_count": 5,
     "metadata": {},
     "output_type": "execute_result"
    }
   ],
   "source": [
    "data.shape"
   ]
  },
  {
   "cell_type": "code",
   "execution_count": 6,
   "metadata": {},
   "outputs": [],
   "source": [
    "df = data[['Sentiment','OriginalTweet']]"
   ]
  },
  {
   "cell_type": "code",
   "execution_count": 7,
   "metadata": {},
   "outputs": [
    {
     "name": "stderr",
     "output_type": "stream",
     "text": [
      "<ipython-input-7-c64f9f573c18>:1: SettingWithCopyWarning: \n",
      "A value is trying to be set on a copy of a slice from a DataFrame\n",
      "\n",
      "See the caveats in the documentation: https://pandas.pydata.org/pandas-docs/stable/user_guide/indexing.html#returning-a-view-versus-a-copy\n",
      "  df.dropna(inplace=True)\n"
     ]
    }
   ],
   "source": [
    "df.dropna(inplace=True)"
   ]
  },
  {
   "cell_type": "code",
   "execution_count": 8,
   "metadata": {},
   "outputs": [
    {
     "data": {
      "text/plain": [
       "(1988, 2)"
      ]
     },
     "execution_count": 8,
     "metadata": {},
     "output_type": "execute_result"
    }
   ],
   "source": [
    "df.shape"
   ]
  },
  {
   "cell_type": "code",
   "execution_count": 9,
   "metadata": {},
   "outputs": [],
   "source": [
    "encoder  = LabelEncoder()\n",
    "encoder.fit(df['Sentiment'])\n",
    "y = encoder.transform(df['Sentiment'])"
   ]
  },
  {
   "cell_type": "code",
   "execution_count": 10,
   "metadata": {},
   "outputs": [],
   "source": [
    "import re\n",
    "def text_normalisation(text):\n",
    "    text = text.lower()\n",
    "    text = re.sub(r\"what's\", \"what is \", text)\n",
    "    text = re.sub(r\"\\'s\", \" \", text)\n",
    "    text = re.sub(r\"\\'ve\", \" have \", text)\n",
    "    text = re.sub(r\"can't\", \"cannot \", text)\n",
    "    text = re.sub(r\"n't\", \" not \", text)\n",
    "    text = re.sub(r'[^a-zA-Z]', r' ',text)\n",
    "    test = re.sub(r' +', r' ',text)\n",
    "    text = text.strip()\n",
    "    return text"
   ]
  },
  {
   "cell_type": "code",
   "execution_count": 11,
   "metadata": {},
   "outputs": [],
   "source": [
    "X = df['OriginalTweet'].apply(text_normalisation)"
   ]
  },
  {
   "cell_type": "code",
   "execution_count": 12,
   "metadata": {},
   "outputs": [
    {
     "data": {
      "text/plain": [
       "\"When I couldn't find hand sanitizer at Fred Meyer, I turned to #Amazon. But $114.97 for a 2 pack of Purell??!!Check out how  #coronavirus concerns are driving up prices. https://t.co/ygbipBflMY\""
      ]
     },
     "execution_count": 12,
     "metadata": {},
     "output_type": "execute_result"
    }
   ],
   "source": [
    "df['OriginalTweet'][0]"
   ]
  },
  {
   "cell_type": "code",
   "execution_count": 13,
   "metadata": {},
   "outputs": [],
   "source": [
    "X = X.apply(word_tokenize)"
   ]
  },
  {
   "cell_type": "code",
   "execution_count": 14,
   "metadata": {},
   "outputs": [
    {
     "data": {
      "text/plain": [
       "0    [when, i, could, not, find, hand, sanitizer, a...\n",
       "1    [panic, buying, hits, newyork, city, as, anxio...\n",
       "2    [voting, in, the, age, of, coronavirus, hand, ...\n",
       "3    [best, quality, couches, at, unbelievably, low...\n",
       "4    [while, we, were, busy, watching, election, re...\n",
       "Name: OriginalTweet, dtype: object"
      ]
     },
     "execution_count": 14,
     "metadata": {},
     "output_type": "execute_result"
    }
   ],
   "source": [
    "X.head()"
   ]
  },
  {
   "cell_type": "code",
   "execution_count": 15,
   "metadata": {},
   "outputs": [],
   "source": [
    "tokenizer = Tokenizer()\n",
    "tokenizer.fit_on_texts(X)\n",
    "X = tokenizer.texts_to_sequences(X)\n",
    "vocab_size = len(tokenizer.word_index) + 1"
   ]
  },
  {
   "cell_type": "code",
   "execution_count": 16,
   "metadata": {},
   "outputs": [
    {
     "name": "stderr",
     "output_type": "stream",
     "text": [
      "<ipython-input-16-df78f4da7098>:2: VisibleDeprecationWarning: Creating an ndarray from ragged nested sequences (which is a list-or-tuple of lists-or-tuples-or ndarrays with different lengths or shapes) is deprecated. If you meant to do this, you must specify 'dtype=object' when creating the ndarray.\n",
      "  X = np.array(X)\n"
     ]
    },
    {
     "data": {
      "text/plain": [
       "(1988,)"
      ]
     },
     "execution_count": 16,
     "metadata": {},
     "output_type": "execute_result"
    }
   ],
   "source": [
    "import numpy as np \n",
    "X = np.array(X)\n",
    "X.shape"
   ]
  },
  {
   "cell_type": "code",
   "execution_count": 17,
   "metadata": {},
   "outputs": [
    {
     "data": {
      "text/plain": [
       "(1988,)"
      ]
     },
     "execution_count": 17,
     "metadata": {},
     "output_type": "execute_result"
    }
   ],
   "source": [
    "y.shape"
   ]
  },
  {
   "cell_type": "code",
   "execution_count": 18,
   "metadata": {},
   "outputs": [
    {
     "data": {
      "text/plain": [
       "0    1041\n",
       "1     947\n",
       "dtype: int64"
      ]
     },
     "execution_count": 18,
     "metadata": {},
     "output_type": "execute_result"
    }
   ],
   "source": [
    "pd.DataFrame(y).value_counts()"
   ]
  },
  {
   "cell_type": "code",
   "execution_count": 19,
   "metadata": {},
   "outputs": [],
   "source": [
    "maxlen = 100 \n",
    "X = pad_sequences(X, padding='post', maxlen=maxlen)"
   ]
  },
  {
   "cell_type": "code",
   "execution_count": 20,
   "metadata": {},
   "outputs": [],
   "source": [
    "from sklearn.model_selection import train_test_split\n",
    "train_x, test_x, train_y, test_y = train_test_split(X,y,test_size = 0.2, random_state = 42)"
   ]
  },
  {
   "cell_type": "code",
   "execution_count": 21,
   "metadata": {},
   "outputs": [
    {
     "name": "stdout",
     "output_type": "stream",
     "text": [
      "(1590, 100, 1)\n",
      "(398, 100, 1)\n"
     ]
    }
   ],
   "source": [
    "train_x = np.array(train_x).reshape((train_x.shape[0],train_x.shape[1],1))\n",
    "print(train_x.shape)\n",
    "test_x=np.array(test_x).reshape((test_x.shape[0],train_x.shape[1],1))\n",
    "print(test_x.shape)"
   ]
  },
  {
   "cell_type": "code",
   "execution_count": 22,
   "metadata": {},
   "outputs": [
    {
     "name": "stdout",
     "output_type": "stream",
     "text": [
      "(1590, 100, 1) (1590,) (398, 100, 1) (398,)\n",
      "Vocabulary Size: 9213\n",
      "[[  11]\n",
      " [  54]\n",
      " [  20]\n",
      " [ 444]\n",
      " [   1]\n",
      " [ 723]\n",
      " [  21]\n",
      " [   1]\n",
      " [  38]\n",
      " [  55]\n",
      " [ 127]\n",
      " [ 411]\n",
      " [   1]\n",
      " [1206]\n",
      " [  21]\n",
      " [   1]\n",
      " [5884]\n",
      " [   3]\n",
      " [   0]\n",
      " [   0]\n",
      " [   0]\n",
      " [   0]\n",
      " [   0]\n",
      " [   0]\n",
      " [   0]\n",
      " [   0]\n",
      " [   0]\n",
      " [   0]\n",
      " [   0]\n",
      " [   0]\n",
      " [   0]\n",
      " [   0]\n",
      " [   0]\n",
      " [   0]\n",
      " [   0]\n",
      " [   0]\n",
      " [   0]\n",
      " [   0]\n",
      " [   0]\n",
      " [   0]\n",
      " [   0]\n",
      " [   0]\n",
      " [   0]\n",
      " [   0]\n",
      " [   0]\n",
      " [   0]\n",
      " [   0]\n",
      " [   0]\n",
      " [   0]\n",
      " [   0]\n",
      " [   0]\n",
      " [   0]\n",
      " [   0]\n",
      " [   0]\n",
      " [   0]\n",
      " [   0]\n",
      " [   0]\n",
      " [   0]\n",
      " [   0]\n",
      " [   0]\n",
      " [   0]\n",
      " [   0]\n",
      " [   0]\n",
      " [   0]\n",
      " [   0]\n",
      " [   0]\n",
      " [   0]\n",
      " [   0]\n",
      " [   0]\n",
      " [   0]\n",
      " [   0]\n",
      " [   0]\n",
      " [   0]\n",
      " [   0]\n",
      " [   0]\n",
      " [   0]\n",
      " [   0]\n",
      " [   0]\n",
      " [   0]\n",
      " [   0]\n",
      " [   0]\n",
      " [   0]\n",
      " [   0]\n",
      " [   0]\n",
      " [   0]\n",
      " [   0]\n",
      " [   0]\n",
      " [   0]\n",
      " [   0]\n",
      " [   0]\n",
      " [   0]\n",
      " [   0]\n",
      " [   0]\n",
      " [   0]\n",
      " [   0]\n",
      " [   0]\n",
      " [   0]\n",
      " [   0]\n",
      " [   0]\n",
      " [   0]]\n"
     ]
    }
   ],
   "source": [
    "print(train_x.shape, train_y.shape, test_x.shape, test_y.shape)\n",
    "print(\"Vocabulary Size: {:d}\".format(vocab_size))\n",
    "print(train_x[0])"
   ]
  },
  {
   "cell_type": "code",
   "execution_count": 23,
   "metadata": {},
   "outputs": [],
   "source": [
    "num_classes = 2"
   ]
  },
  {
   "cell_type": "code",
   "execution_count": 24,
   "metadata": {},
   "outputs": [],
   "source": [
    "model_lstm = Sequential()\n",
    "model_lstm.add(Embedding(vocab_size,128,input_length=(maxlen)))\n",
    "model_lstm.add(LSTM(128))\n",
    "model_lstm.add(Dense(64, activation = 'relu'))\n",
    "model_lstm.add(Dense(num_classes, activation = 'softmax'))"
   ]
  },
  {
   "cell_type": "code",
   "execution_count": 25,
   "metadata": {},
   "outputs": [
    {
     "name": "stdout",
     "output_type": "stream",
     "text": [
      "Model: \"sequential\"\n",
      "_________________________________________________________________\n",
      " Layer (type)                Output Shape              Param #   \n",
      "=================================================================\n",
      " embedding (Embedding)       (None, 100, 128)          1179264   \n",
      "                                                                 \n",
      " lstm (LSTM)                 (None, 128)               131584    \n",
      "                                                                 \n",
      " dense (Dense)               (None, 64)                8256      \n",
      "                                                                 \n",
      " dense_1 (Dense)             (None, 2)                 130       \n",
      "                                                                 \n",
      "=================================================================\n",
      "Total params: 1,319,234\n",
      "Trainable params: 1,319,234\n",
      "Non-trainable params: 0\n",
      "_________________________________________________________________\n"
     ]
    }
   ],
   "source": [
    "model_lstm.summary()"
   ]
  },
  {
   "cell_type": "code",
   "execution_count": 26,
   "metadata": {},
   "outputs": [],
   "source": [
    "model_lstm.compile(optimizer = 'adam', loss = 'sparse_categorical_crossentropy', metrics = ['accuracy'])"
   ]
  },
  {
   "cell_type": "code",
   "execution_count": 27,
   "metadata": {},
   "outputs": [
    {
     "name": "stdout",
     "output_type": "stream",
     "text": [
      "Epoch 1/50\n",
      "10/10 [==============================] - 4s 274ms/step - loss: 0.6943 - accuracy: 0.4945 - val_loss: 0.6921 - val_accuracy: 0.5660\n",
      "Epoch 2/50\n",
      "10/10 [==============================] - 2s 216ms/step - loss: 0.6938 - accuracy: 0.4961 - val_loss: 0.6895 - val_accuracy: 0.5660\n",
      "Epoch 3/50\n",
      "10/10 [==============================] - 3s 287ms/step - loss: 0.6938 - accuracy: 0.5055 - val_loss: 0.6901 - val_accuracy: 0.5660\n",
      "Epoch 4/50\n",
      "10/10 [==============================] - 4s 382ms/step - loss: 0.6933 - accuracy: 0.5055 - val_loss: 0.6919 - val_accuracy: 0.5660\n",
      "Epoch 5/50\n",
      "10/10 [==============================] - 4s 377ms/step - loss: 0.6935 - accuracy: 0.4756 - val_loss: 0.6938 - val_accuracy: 0.4340\n",
      "Epoch 6/50\n",
      "10/10 [==============================] - 4s 380ms/step - loss: 0.6931 - accuracy: 0.5024 - val_loss: 0.6916 - val_accuracy: 0.5660\n",
      "Epoch 7/50\n",
      "10/10 [==============================] - 4s 383ms/step - loss: 0.6934 - accuracy: 0.5055 - val_loss: 0.6899 - val_accuracy: 0.5660\n",
      "Epoch 8/50\n",
      "10/10 [==============================] - 4s 386ms/step - loss: 0.6934 - accuracy: 0.5055 - val_loss: 0.6930 - val_accuracy: 0.5660\n",
      "Epoch 9/50\n",
      "10/10 [==============================] - 4s 376ms/step - loss: 0.6932 - accuracy: 0.5055 - val_loss: 0.6925 - val_accuracy: 0.5660\n",
      "Epoch 10/50\n",
      "10/10 [==============================] - 4s 383ms/step - loss: 0.6933 - accuracy: 0.4788 - val_loss: 0.6927 - val_accuracy: 0.5660\n",
      "Epoch 11/50\n",
      "10/10 [==============================] - 4s 373ms/step - loss: 0.6932 - accuracy: 0.5055 - val_loss: 0.6912 - val_accuracy: 0.5660\n",
      "Epoch 12/50\n",
      "10/10 [==============================] - 4s 372ms/step - loss: 0.6932 - accuracy: 0.5055 - val_loss: 0.6913 - val_accuracy: 0.5660\n",
      "Epoch 13/50\n",
      "10/10 [==============================] - 4s 378ms/step - loss: 0.6933 - accuracy: 0.5055 - val_loss: 0.6905 - val_accuracy: 0.5660\n",
      "Epoch 14/50\n",
      "10/10 [==============================] - 4s 377ms/step - loss: 0.6931 - accuracy: 0.5055 - val_loss: 0.6920 - val_accuracy: 0.5660\n",
      "Epoch 15/50\n",
      "10/10 [==============================] - 4s 370ms/step - loss: 0.6932 - accuracy: 0.5055 - val_loss: 0.6923 - val_accuracy: 0.5660\n",
      "Epoch 16/50\n",
      "10/10 [==============================] - 4s 371ms/step - loss: 0.6932 - accuracy: 0.5055 - val_loss: 0.6922 - val_accuracy: 0.5660\n",
      "Epoch 17/50\n",
      "10/10 [==============================] - 4s 381ms/step - loss: 0.6932 - accuracy: 0.5055 - val_loss: 0.6909 - val_accuracy: 0.5660\n",
      "Epoch 18/50\n",
      "10/10 [==============================] - 4s 378ms/step - loss: 0.6938 - accuracy: 0.4756 - val_loss: 0.6939 - val_accuracy: 0.4340\n",
      "Epoch 19/50\n",
      "10/10 [==============================] - 4s 378ms/step - loss: 0.6934 - accuracy: 0.4882 - val_loss: 0.6905 - val_accuracy: 0.5660\n",
      "Epoch 20/50\n",
      "10/10 [==============================] - 4s 373ms/step - loss: 0.6932 - accuracy: 0.5055 - val_loss: 0.6914 - val_accuracy: 0.5660\n",
      "Epoch 21/50\n",
      "10/10 [==============================] - 4s 377ms/step - loss: 0.6931 - accuracy: 0.5055 - val_loss: 0.6930 - val_accuracy: 0.5660\n",
      "Epoch 22/50\n",
      "10/10 [==============================] - 4s 379ms/step - loss: 0.6932 - accuracy: 0.5055 - val_loss: 0.6918 - val_accuracy: 0.5660\n",
      "Epoch 23/50\n",
      "10/10 [==============================] - 4s 371ms/step - loss: 0.6933 - accuracy: 0.5055 - val_loss: 0.6914 - val_accuracy: 0.5660\n",
      "Epoch 24/50\n",
      "10/10 [==============================] - 4s 384ms/step - loss: 0.6932 - accuracy: 0.5055 - val_loss: 0.6917 - val_accuracy: 0.5660\n",
      "Epoch 25/50\n",
      "10/10 [==============================] - 4s 374ms/step - loss: 0.6938 - accuracy: 0.5055 - val_loss: 0.6899 - val_accuracy: 0.5660\n",
      "Epoch 26/50\n",
      "10/10 [==============================] - 4s 378ms/step - loss: 0.6930 - accuracy: 0.5055 - val_loss: 0.6927 - val_accuracy: 0.5660\n",
      "Epoch 27/50\n",
      "10/10 [==============================] - 4s 374ms/step - loss: 0.6932 - accuracy: 0.4803 - val_loss: 0.6930 - val_accuracy: 0.5660\n",
      "Epoch 28/50\n",
      "10/10 [==============================] - 4s 374ms/step - loss: 0.6932 - accuracy: 0.4851 - val_loss: 0.6925 - val_accuracy: 0.5660\n",
      "Epoch 29/50\n",
      "10/10 [==============================] - 4s 376ms/step - loss: 0.6934 - accuracy: 0.5055 - val_loss: 0.6911 - val_accuracy: 0.5660\n",
      "Epoch 30/50\n",
      "10/10 [==============================] - 4s 381ms/step - loss: 0.6931 - accuracy: 0.5055 - val_loss: 0.6920 - val_accuracy: 0.5660\n",
      "Epoch 31/50\n",
      "10/10 [==============================] - 4s 380ms/step - loss: 0.6931 - accuracy: 0.5055 - val_loss: 0.6928 - val_accuracy: 0.5660\n",
      "Epoch 32/50\n",
      "10/10 [==============================] - 4s 378ms/step - loss: 0.6935 - accuracy: 0.4898 - val_loss: 0.6931 - val_accuracy: 0.5660\n",
      "Epoch 33/50\n",
      "10/10 [==============================] - 4s 378ms/step - loss: 0.6937 - accuracy: 0.5055 - val_loss: 0.6910 - val_accuracy: 0.5660\n",
      "Epoch 34/50\n",
      "10/10 [==============================] - 4s 380ms/step - loss: 0.6932 - accuracy: 0.5055 - val_loss: 0.6915 - val_accuracy: 0.5660\n",
      "Epoch 35/50\n",
      "10/10 [==============================] - 4s 372ms/step - loss: 0.6932 - accuracy: 0.5055 - val_loss: 0.6923 - val_accuracy: 0.5660\n",
      "Epoch 36/50\n",
      "10/10 [==============================] - 4s 378ms/step - loss: 0.6931 - accuracy: 0.5055 - val_loss: 0.6917 - val_accuracy: 0.5660\n",
      "Epoch 37/50\n",
      "10/10 [==============================] - 4s 375ms/step - loss: 0.6931 - accuracy: 0.5055 - val_loss: 0.6911 - val_accuracy: 0.5660\n",
      "Epoch 38/50\n",
      "10/10 [==============================] - 4s 380ms/step - loss: 0.6932 - accuracy: 0.5055 - val_loss: 0.6915 - val_accuracy: 0.5660\n",
      "Epoch 39/50\n",
      "10/10 [==============================] - 4s 388ms/step - loss: 0.6932 - accuracy: 0.5055 - val_loss: 0.6914 - val_accuracy: 0.5660\n",
      "Epoch 40/50\n",
      "10/10 [==============================] - 4s 384ms/step - loss: 0.6931 - accuracy: 0.5055 - val_loss: 0.6923 - val_accuracy: 0.5660\n",
      "Epoch 41/50\n",
      "10/10 [==============================] - 4s 375ms/step - loss: 0.6931 - accuracy: 0.5055 - val_loss: 0.6925 - val_accuracy: 0.5660\n",
      "Epoch 42/50\n",
      "10/10 [==============================] - 4s 376ms/step - loss: 0.6931 - accuracy: 0.5055 - val_loss: 0.6921 - val_accuracy: 0.5660\n",
      "Epoch 43/50\n",
      "10/10 [==============================] - 4s 373ms/step - loss: 0.6931 - accuracy: 0.5055 - val_loss: 0.6919 - val_accuracy: 0.5660\n",
      "Epoch 44/50\n",
      "10/10 [==============================] - 4s 375ms/step - loss: 0.6931 - accuracy: 0.5055 - val_loss: 0.6918 - val_accuracy: 0.5660\n",
      "Epoch 45/50\n",
      "10/10 [==============================] - 4s 373ms/step - loss: 0.6932 - accuracy: 0.5055 - val_loss: 0.6920 - val_accuracy: 0.5660\n",
      "Epoch 46/50\n",
      "10/10 [==============================] - 4s 377ms/step - loss: 0.6931 - accuracy: 0.5055 - val_loss: 0.6919 - val_accuracy: 0.5660\n",
      "Epoch 47/50\n",
      "10/10 [==============================] - 4s 370ms/step - loss: 0.6931 - accuracy: 0.5055 - val_loss: 0.6917 - val_accuracy: 0.5660\n",
      "Epoch 48/50\n",
      "10/10 [==============================] - 4s 370ms/step - loss: 0.6931 - accuracy: 0.5055 - val_loss: 0.6917 - val_accuracy: 0.5660\n",
      "Epoch 49/50\n",
      "10/10 [==============================] - 4s 371ms/step - loss: 0.6931 - accuracy: 0.5055 - val_loss: 0.6917 - val_accuracy: 0.5660\n",
      "Epoch 50/50\n",
      "10/10 [==============================] - 4s 378ms/step - loss: 0.6931 - accuracy: 0.5055 - val_loss: 0.6920 - val_accuracy: 0.5660\n"
     ]
    }
   ],
   "source": [
    "history=model_lstm.fit(train_x,train_y,epochs=50,batch_size=128,verbose=1,validation_split=0.2)"
   ]
  },
  {
   "cell_type": "code",
   "execution_count": 28,
   "metadata": {},
   "outputs": [
    {
     "name": "stdout",
     "output_type": "stream",
     "text": [
      "Model -1 Perfromance:\n"
     ]
    },
    {
     "data": {
      "image/png": "[encoded data removed]",
      "text/plain": [
       "<Figure size 1080x1080 with 2 Axes>"
      ]
     },
     "metadata": {
      "needs_background": "light"
     },
     "output_type": "display_data"
    }
   ],
   "source": [
    "print(\"Model -1 Perfromance:\")\n",
    "acc = history.history['accuracy']\n",
    "val_acc = history.history['val_accuracy']\n",
    "loss = history.history['loss']\n",
    "val_loss = history.history['val_loss']\n",
    "\n",
    "epochs_range = range(50)\n",
    "\n",
    "plt.figure(figsize=(15, 15))\n",
    "plt.subplot(2, 2, 1)\n",
    "plt.plot(epochs_range, acc, label='Training Accuracy')\n",
    "plt.plot(epochs_range, val_acc, label='Validation Accuracy')\n",
    "plt.legend(loc='lower right')\n",
    "plt.title('Training and Validation Accuracy')\n",
    "\n",
    "plt.subplot(2, 2, 2)\n",
    "plt.plot(epochs_range, loss, label='Training Loss')\n",
    "plt.plot(epochs_range, val_loss, label='Validation Loss')\n",
    "plt.legend(loc='upper right')\n",
    "plt.title('Training and Validation Loss')\n",
    "plt.show()"
   ]
  },
  {
   "cell_type": "code",
   "execution_count": 51,
   "metadata": {},
   "outputs": [],
   "source": [
    "model_lstm1 = Sequential()\n",
    "model_lstm1.add(Embedding(vocab_size,128,input_length=(maxlen)))\n",
    "model_lstm1.add(LSTM(128 , return_sequences=True))\n",
    "model_lstm1.add(Dropout(0.5))\n",
    "model_lstm1.add(LSTM(128,return_sequences=False))\n",
    "model_lstm1.add(Dropout(0.5))\n",
    "model_lstm1.add(Dense(64, activation = 'relu'))\n",
    "model_lstm1.add(Dropout(0.2))\n",
    "model_lstm1.add(Dense(num_classes, activation = 'softmax'))"
   ]
  },
  {
   "cell_type": "code",
   "execution_count": 52,
   "metadata": {},
   "outputs": [],
   "source": [
    "model_lstm1.compile(optimizer = 'sgd', loss = 'sparse_categorical_crossentropy', metrics = ['accuracy'])"
   ]
  },
  {
   "cell_type": "code",
   "execution_count": 53,
   "metadata": {},
   "outputs": [
    {
     "name": "stdout",
     "output_type": "stream",
     "text": [
      "Epoch 1/50\n",
      "10/10 [==============================] - 9s 565ms/step - loss: 0.6936 - accuracy: 0.4992 - val_loss: 0.6923 - val_accuracy: 0.5660\n",
      "Epoch 2/50\n",
      "10/10 [==============================] - 7s 768ms/step - loss: 0.6929 - accuracy: 0.4992 - val_loss: 0.6919 - val_accuracy: 0.5660\n",
      "Epoch 3/50\n",
      "10/10 [==============================] - 9s 896ms/step - loss: 0.6936 - accuracy: 0.4961 - val_loss: 0.6919 - val_accuracy: 0.5660\n",
      "Epoch 4/50\n",
      "10/10 [==============================] - 10s 966ms/step - loss: 0.6932 - accuracy: 0.4992 - val_loss: 0.6918 - val_accuracy: 0.5660\n",
      "Epoch 5/50\n",
      "10/10 [==============================] - 5s 498ms/step - loss: 0.6938 - accuracy: 0.4976 - val_loss: 0.6917 - val_accuracy: 0.5660\n",
      "Epoch 6/50\n",
      "10/10 [==============================] - 6s 648ms/step - loss: 0.6939 - accuracy: 0.4945 - val_loss: 0.6918 - val_accuracy: 0.5660\n",
      "Epoch 7/50\n",
      "10/10 [==============================] - 9s 905ms/step - loss: 0.6936 - accuracy: 0.4969 - val_loss: 0.6919 - val_accuracy: 0.5660\n",
      "Epoch 8/50\n",
      "10/10 [==============================] - 9s 855ms/step - loss: 0.6929 - accuracy: 0.5055 - val_loss: 0.6920 - val_accuracy: 0.5660\n",
      "Epoch 9/50\n",
      "10/10 [==============================] - 9s 885ms/step - loss: 0.6934 - accuracy: 0.4953 - val_loss: 0.6921 - val_accuracy: 0.5660\n",
      "Epoch 10/50\n",
      "10/10 [==============================] - 5s 460ms/step - loss: 0.6927 - accuracy: 0.5283 - val_loss: 0.6921 - val_accuracy: 0.5660\n",
      "Epoch 11/50\n",
      "10/10 [==============================] - 7s 696ms/step - loss: 0.6930 - accuracy: 0.5063 - val_loss: 0.6920 - val_accuracy: 0.5660\n",
      "Epoch 12/50\n",
      "10/10 [==============================] - 9s 877ms/step - loss: 0.6938 - accuracy: 0.4921 - val_loss: 0.6921 - val_accuracy: 0.5660\n",
      "Epoch 13/50\n",
      "10/10 [==============================] - 9s 894ms/step - loss: 0.6939 - accuracy: 0.4906 - val_loss: 0.6918 - val_accuracy: 0.5660\n",
      "Epoch 14/50\n",
      "10/10 [==============================] - 9s 925ms/step - loss: 0.6936 - accuracy: 0.4937 - val_loss: 0.6920 - val_accuracy: 0.5660\n",
      "Epoch 15/50\n",
      "10/10 [==============================] - 9s 957ms/step - loss: 0.6936 - accuracy: 0.4984 - val_loss: 0.6920 - val_accuracy: 0.5660\n",
      "Epoch 16/50\n",
      "10/10 [==============================] - 9s 872ms/step - loss: 0.6932 - accuracy: 0.5024 - val_loss: 0.6918 - val_accuracy: 0.5660\n",
      "Epoch 17/50\n",
      "10/10 [==============================] - 6s 610ms/step - loss: 0.6926 - accuracy: 0.5236 - val_loss: 0.6918 - val_accuracy: 0.5660\n",
      "Epoch 18/50\n",
      "10/10 [==============================] - 10s 993ms/step - loss: 0.6929 - accuracy: 0.5071 - val_loss: 0.6918 - val_accuracy: 0.5660\n",
      "Epoch 19/50\n",
      "10/10 [==============================] - 10s 1s/step - loss: 0.6931 - accuracy: 0.4992 - val_loss: 0.6919 - val_accuracy: 0.5660\n",
      "Epoch 20/50\n",
      "10/10 [==============================] - 11s 1s/step - loss: 0.6931 - accuracy: 0.5126 - val_loss: 0.6918 - val_accuracy: 0.5660\n",
      "Epoch 21/50\n",
      "10/10 [==============================] - 10s 1s/step - loss: 0.6929 - accuracy: 0.5016 - val_loss: 0.6919 - val_accuracy: 0.5660\n",
      "Epoch 22/50\n",
      "10/10 [==============================] - 9s 953ms/step - loss: 0.6930 - accuracy: 0.4976 - val_loss: 0.6920 - val_accuracy: 0.5660\n",
      "Epoch 23/50\n",
      "10/10 [==============================] - 11s 1s/step - loss: 0.6936 - accuracy: 0.4819 - val_loss: 0.6920 - val_accuracy: 0.5660\n",
      "Epoch 24/50\n",
      "10/10 [==============================] - 9s 940ms/step - loss: 0.6933 - accuracy: 0.4882 - val_loss: 0.6921 - val_accuracy: 0.5660\n",
      "Epoch 25/50\n",
      "10/10 [==============================] - 9s 883ms/step - loss: 0.6930 - accuracy: 0.5126 - val_loss: 0.6919 - val_accuracy: 0.5660\n",
      "Epoch 26/50\n",
      "10/10 [==============================] - 5s 459ms/step - loss: 0.6933 - accuracy: 0.4961 - val_loss: 0.6920 - val_accuracy: 0.5660\n",
      "Epoch 27/50\n",
      "10/10 [==============================] - 8s 827ms/step - loss: 0.6933 - accuracy: 0.5079 - val_loss: 0.6921 - val_accuracy: 0.5660\n",
      "Epoch 28/50\n",
      "10/10 [==============================] - 10s 963ms/step - loss: 0.6928 - accuracy: 0.5063 - val_loss: 0.6920 - val_accuracy: 0.5660\n",
      "Epoch 29/50\n",
      "10/10 [==============================] - 9s 874ms/step - loss: 0.6935 - accuracy: 0.4851 - val_loss: 0.6921 - val_accuracy: 0.5660\n",
      "Epoch 30/50\n",
      "10/10 [==============================] - 10s 969ms/step - loss: 0.6928 - accuracy: 0.5244 - val_loss: 0.6921 - val_accuracy: 0.5660\n",
      "Epoch 31/50\n",
      "10/10 [==============================] - 9s 917ms/step - loss: 0.6935 - accuracy: 0.4937 - val_loss: 0.6921 - val_accuracy: 0.5660\n",
      "Epoch 32/50\n",
      "10/10 [==============================] - 10s 1s/step - loss: 0.6935 - accuracy: 0.4921 - val_loss: 0.6919 - val_accuracy: 0.5660\n",
      "Epoch 33/50\n",
      "10/10 [==============================] - 9s 878ms/step - loss: 0.6931 - accuracy: 0.5126 - val_loss: 0.6918 - val_accuracy: 0.5660\n",
      "Epoch 34/50\n",
      "10/10 [==============================] - 6s 611ms/step - loss: 0.6936 - accuracy: 0.5000 - val_loss: 0.6917 - val_accuracy: 0.5660\n",
      "Epoch 35/50\n",
      "10/10 [==============================] - 5s 532ms/step - loss: 0.6934 - accuracy: 0.4969 - val_loss: 0.6917 - val_accuracy: 0.5660\n",
      "Epoch 36/50\n",
      "10/10 [==============================] - 8s 831ms/step - loss: 0.6929 - accuracy: 0.5024 - val_loss: 0.6916 - val_accuracy: 0.5660\n",
      "Epoch 37/50\n",
      "10/10 [==============================] - 8s 826ms/step - loss: 0.6932 - accuracy: 0.5252 - val_loss: 0.6917 - val_accuracy: 0.5660\n",
      "Epoch 38/50\n",
      "10/10 [==============================] - 9s 868ms/step - loss: 0.6932 - accuracy: 0.4898 - val_loss: 0.6916 - val_accuracy: 0.5660\n",
      "Epoch 39/50\n",
      "10/10 [==============================] - 8s 854ms/step - loss: 0.6933 - accuracy: 0.5118 - val_loss: 0.6917 - val_accuracy: 0.5660\n",
      "Epoch 40/50\n",
      "10/10 [==============================] - 8s 851ms/step - loss: 0.6933 - accuracy: 0.5000 - val_loss: 0.6919 - val_accuracy: 0.5660\n",
      "Epoch 41/50\n",
      "10/10 [==============================] - 8s 835ms/step - loss: 0.6934 - accuracy: 0.4866 - val_loss: 0.6918 - val_accuracy: 0.5660\n",
      "Epoch 42/50\n",
      "10/10 [==============================] - 4s 435ms/step - loss: 0.6931 - accuracy: 0.5126 - val_loss: 0.6919 - val_accuracy: 0.5660\n",
      "Epoch 43/50\n",
      "10/10 [==============================] - 7s 678ms/step - loss: 0.6926 - accuracy: 0.5181 - val_loss: 0.6916 - val_accuracy: 0.5660\n",
      "Epoch 44/50\n",
      "10/10 [==============================] - 8s 830ms/step - loss: 0.6931 - accuracy: 0.5047 - val_loss: 0.6915 - val_accuracy: 0.5660\n",
      "Epoch 45/50\n",
      "10/10 [==============================] - 9s 856ms/step - loss: 0.6932 - accuracy: 0.5016 - val_loss: 0.6916 - val_accuracy: 0.5660\n",
      "Epoch 46/50\n",
      "10/10 [==============================] - 9s 877ms/step - loss: 0.6933 - accuracy: 0.5039 - val_loss: 0.6915 - val_accuracy: 0.5660\n",
      "Epoch 47/50\n",
      "10/10 [==============================] - 8s 855ms/step - loss: 0.6932 - accuracy: 0.4937 - val_loss: 0.6915 - val_accuracy: 0.5660\n",
      "Epoch 48/50\n",
      "10/10 [==============================] - 6s 561ms/step - loss: 0.6925 - accuracy: 0.5118 - val_loss: 0.6913 - val_accuracy: 0.5660\n",
      "Epoch 49/50\n",
      "10/10 [==============================] - 5s 500ms/step - loss: 0.6929 - accuracy: 0.5157 - val_loss: 0.6915 - val_accuracy: 0.5660\n",
      "Epoch 50/50\n",
      "10/10 [==============================] - 8s 848ms/step - loss: 0.6934 - accuracy: 0.5110 - val_loss: 0.6916 - val_accuracy: 0.5660\n"
     ]
    }
   ],
   "source": [
    "history2 = model_lstm1.fit(train_x,train_y,epochs=50,batch_size=128,verbose=1,validation_split=0.2)"
   ]
  },
  {
   "cell_type": "code",
   "execution_count": 55,
   "metadata": {},
   "outputs": [
    {
     "name": "stdout",
     "output_type": "stream",
     "text": [
      "Model -2 Perfromance:\n"
     ]
    },
    {
     "data": {
      "image/png": "[encoded data removed]",
      "text/plain": [
       "<Figure size 1080x1080 with 2 Axes>"
      ]
     },
     "metadata": {
      "needs_background": "light"
     },
     "output_type": "display_data"
    }
   ],
   "source": [
    "print(\"Model -2 Perfromance:\")\n",
    "acc = history2.history['accuracy']\n",
    "val_acc = history2.history['val_accuracy']\n",
    "loss = history2.history['loss']\n",
    "val_loss = history2.history['val_loss']\n",
    "\n",
    "epochs_range = range(50)\n",
    "\n",
    "plt.figure(figsize=(15, 15))\n",
    "plt.subplot(2, 2, 1)\n",
    "plt.plot(epochs_range, acc, label='Training Accuracy')\n",
    "plt.plot(epochs_range, val_acc, label='Validation Accuracy')\n",
    "plt.legend(loc='lower right')\n",
    "plt.title('Training and Validation Accuracy')\n",
    "\n",
    "plt.subplot(2, 2, 2)\n",
    "plt.plot(epochs_range, loss, label='Training Loss')\n",
    "plt.plot(epochs_range, val_loss, label='Validation Loss')\n",
    "plt.legend(loc='upper right')\n",
    "plt.title('Training and Validation Loss')\n",
    "plt.show()"
   ]
  },
  {
   "cell_type": "code",
   "execution_count": 41,
   "metadata": {},
   "outputs": [],
   "source": [
    "a = \"Many people lost their friends and families due to corona virus\"\n",
    "a = text_normalisation(a)\n",
    "a = word_tokenize(a)\n",
    "a = tokenizer.texts_to_sequences([a])\n",
    "a = pad_sequences(a, padding='post', maxlen=maxlen)"
   ]
  },
  {
   "cell_type": "code",
   "execution_count": 42,
   "metadata": {},
   "outputs": [
    {
     "data": {
      "text/plain": [
       "(1, 100)"
      ]
     },
     "execution_count": 42,
     "metadata": {},
     "output_type": "execute_result"
    }
   ],
   "source": [
    "a.shape"
   ]
  },
  {
   "cell_type": "code",
   "execution_count": 43,
   "metadata": {},
   "outputs": [],
   "source": [
    "a = a.reshape(a.shape[0],a.shape[1],1)"
   ]
  },
  {
   "cell_type": "code",
   "execution_count": 44,
   "metadata": {},
   "outputs": [
    {
     "data": {
      "text/plain": [
       "(1, 100, 1)"
      ]
     },
     "execution_count": 44,
     "metadata": {},
     "output_type": "execute_result"
    }
   ],
   "source": [
    "a.shape"
   ]
  },
  {
   "cell_type": "code",
   "execution_count": 45,
   "metadata": {},
   "outputs": [
    {
     "data": {
      "text/plain": [
       "array([[0.50447506, 0.4955249 ]], dtype=float32)"
      ]
     },
     "execution_count": 45,
     "metadata": {},
     "output_type": "execute_result"
    }
   ],
   "source": [
    "model_lstm.predict(a)"
   ]
  },
  {
   "cell_type": "code",
   "execution_count": 49,
   "metadata": {},
   "outputs": [],
   "source": [
    "pred=np.argmax(model_lstm.predict(a))"
   ]
  },
  {
   "cell_type": "code",
   "execution_count": 50,
   "metadata": {},
   "outputs": [
    {
     "data": {
      "text/plain": [
       "array(['Negative'], dtype=object)"
      ]
     },
     "execution_count": 50,
     "metadata": {},
     "output_type": "execute_result"
    }
   ],
   "source": [
    "encoder.inverse_transform([pred])"
   ]
  }
 ],
 "metadata": {
  "interpreter": {
   "hash": "7679c2132d3f6ce38c9df14d554b39c06862b36a4e6689c81f9ae15bd0911d7d"
  },
  "kernelspec": {
   "display_name": "Python 3.8.8 ('base')",
   "language": "python",
   "name": "python3"
  },
  "language_info": {
   "codemirror_mode": {
    "name": "ipython",
    "version": 3
   },
   "file_extension": ".py",
   "mimetype": "text/x-python",
   "name": "python",
   "nbconvert_exporter": "python",
   "pygments_lexer": "ipython3",
   "version": "3.8.8"
  },
  "orig_nbformat": 4
 },
 "nbformat": 4,
 "nbformat_minor": 2
}
